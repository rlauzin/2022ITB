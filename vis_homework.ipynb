{
  "nbformat": 4,
  "nbformat_minor": 0,
  "metadata": {
    "colab": {
      "provenance": [],
      "collapsed_sections": [],
      "authorship_tag": "ABX9TyMfGwvhHxueWb+w54J/7kf0",
      "include_colab_link": true
    },
    "kernelspec": {
      "name": "python3",
      "display_name": "Python 3"
    },
    "language_info": {
      "name": "python"
    }
  },
  "cells": [
    {
      "cell_type": "markdown",
      "metadata": {
        "id": "view-in-github",
        "colab_type": "text"
      },
      "source": [
        "<a href=\"https://colab.research.google.com/github/rlauzin/2022ITB/blob/main/vis_homework.ipynb\" target=\"_parent\"><img src=\"https://colab.research.google.com/assets/colab-badge.svg\" alt=\"Open In Colab\"/></a>"
      ]
    },
    {
      "cell_type": "code",
      "execution_count": 1,
      "metadata": {
        "id": "6K6CiOnRlmUC"
      },
      "outputs": [],
      "source": [
        "import pandas as pd\n",
        "\n",
        "%matplotlib inline\n",
        "import matplotlib as mpl\n",
        "import matplotlib.pyplot as plt\n",
        "import matplotlib.font_manager as fm\n",
        "mpl.rcParams['axes.unicode_minus'] = False\n",
        "\n",
        "import seaborn as sns"
      ]
    },
    {
      "cell_type": "code",
      "source": [
        "from google.colab import drive\n",
        "drive.mount('/content/drive')"
      ],
      "metadata": {
        "colab": {
          "base_uri": "https://localhost:8080/"
        },
        "id": "wXlgjjpEnZZn",
        "outputId": "1e090f4a-071a-41fb-c4bc-aec0113f07fb"
      },
      "execution_count": 2,
      "outputs": [
        {
          "output_type": "stream",
          "name": "stdout",
          "text": [
            "Drive already mounted at /content/drive; to attempt to forcibly remount, call drive.mount(\"/content/drive\", force_remount=True).\n"
          ]
        }
      ]
    },
    {
      "cell_type": "code",
      "source": [
        "health = pd.read_csv(\"/content/drive/My Drive/Colab Notebooks/HomeWork/health_data.csv\") \n",
        "display(health.info())\n",
        "display(health.isna().sum())\n",
        "display(health.head())"
      ],
      "metadata": {
        "colab": {
          "base_uri": "https://localhost:8080/",
          "height": 1000
        },
        "id": "zOYl8QDTngEE",
        "outputId": "056719e8-a157-42bc-9685-9577e3174ed8"
      },
      "execution_count": 3,
      "outputs": [
        {
          "output_type": "stream",
          "name": "stdout",
          "text": [
            "<class 'pandas.core.frame.DataFrame'>\n",
            "RangeIndex: 10000 entries, 0 to 9999\n",
            "Data columns (total 31 columns):\n",
            " #   Column             Non-Null Count  Dtype  \n",
            "---  ------             --------------  -----  \n",
            " 0   HCHK_YEAR          10000 non-null  int64  \n",
            " 1   IDV_ID             10000 non-null  int64  \n",
            " 2   SIDO               10000 non-null  int64  \n",
            " 3   SEX                10000 non-null  object \n",
            " 4   AGE_GROUP          10000 non-null  int64  \n",
            " 5   HEIGHT             10000 non-null  int64  \n",
            " 6   WEIGHT             10000 non-null  int64  \n",
            " 7   WAIST              10000 non-null  float64\n",
            " 8   SIGHT_LEFT         10000 non-null  float64\n",
            " 9   SIGHT_RIGHT        10000 non-null  float64\n",
            " 10  HEAR_LEFT          10000 non-null  int64  \n",
            " 11  HEAR_RIGHT         10000 non-null  int64  \n",
            " 12  BP_HIGH            9912 non-null   float64\n",
            " 13  BP_LWST            9912 non-null   float64\n",
            " 14  BLDS               9912 non-null   float64\n",
            " 15  총콜레스테롤             4044 non-null   float64\n",
            " 16  트리글리세라이드           4044 non-null   float64\n",
            " 17  HDL콜레스테롤           4044 non-null   float64\n",
            " 18  LDL콜레스테롤           3977 non-null   float64\n",
            " 19  HMG                9912 non-null   float64\n",
            " 20  OLIG_PROTE_CD      9861 non-null   float64\n",
            " 21  CREATININE         9912 non-null   float64\n",
            " 22  SGOT_AST           9912 non-null   float64\n",
            " 23  SGPT_ALT           9912 non-null   float64\n",
            " 24  GAMMA_GTP          9912 non-null   float64\n",
            " 25  SMK_STAT_TYPE_CD   9998 non-null   object \n",
            " 26  DRK_YN             9999 non-null   object \n",
            " 27  HCHK_OE_INSPEC_YN  10000 non-null  int64  \n",
            " 28  치아우식증유무            3251 non-null   float64\n",
            " 29  치석                 3251 non-null   float64\n",
            " 30  DATA_STD__DT       10000 non-null  object \n",
            "dtypes: float64(18), int64(9), object(4)\n",
            "memory usage: 2.4+ MB\n"
          ]
        },
        {
          "output_type": "display_data",
          "data": {
            "text/plain": [
              "None"
            ]
          },
          "metadata": {}
        },
        {
          "output_type": "display_data",
          "data": {
            "text/plain": [
              "HCHK_YEAR               0\n",
              "IDV_ID                  0\n",
              "SIDO                    0\n",
              "SEX                     0\n",
              "AGE_GROUP               0\n",
              "HEIGHT                  0\n",
              "WEIGHT                  0\n",
              "WAIST                   0\n",
              "SIGHT_LEFT              0\n",
              "SIGHT_RIGHT             0\n",
              "HEAR_LEFT               0\n",
              "HEAR_RIGHT              0\n",
              "BP_HIGH                88\n",
              "BP_LWST                88\n",
              "BLDS                   88\n",
              "총콜레스테롤               5956\n",
              "트리글리세라이드             5956\n",
              "HDL콜레스테롤             5956\n",
              "LDL콜레스테롤             6023\n",
              "HMG                    88\n",
              "OLIG_PROTE_CD         139\n",
              "CREATININE             88\n",
              "SGOT_AST               88\n",
              "SGPT_ALT               88\n",
              "GAMMA_GTP              88\n",
              "SMK_STAT_TYPE_CD        2\n",
              "DRK_YN                  1\n",
              "HCHK_OE_INSPEC_YN       0\n",
              "치아우식증유무              6749\n",
              "치석                   6749\n",
              "DATA_STD__DT            0\n",
              "dtype: int64"
            ]
          },
          "metadata": {}
        },
        {
          "output_type": "display_data",
          "data": {
            "text/plain": [
              "   HCHK_YEAR  IDV_ID  SIDO SEX  AGE_GROUP  HEIGHT  WEIGHT  WAIST  SIGHT_LEFT  \\\n",
              "0       2020       1    36   M          9     165      60   72.1         1.2   \n",
              "1       2020       2    27   F         13     150      65   81.0         0.8   \n",
              "2       2020       3    11   F         12     155      55   70.0         0.6   \n",
              "3       2020       4    31   M         13     160      70   90.8         1.0   \n",
              "4       2020       5    41   F         12     155      50   75.2         1.5   \n",
              "\n",
              "   SIGHT_RIGHT  ...  CREATININE  SGOT_AST  SGPT_ALT  GAMMA_GTP  \\\n",
              "0          1.5  ...         1.1      21.0      27.0       21.0   \n",
              "1          0.8  ...         0.5      18.0      15.0       15.0   \n",
              "2          0.7  ...         0.7      27.0      25.0        7.0   \n",
              "3          1.0  ...         1.2      65.0      97.0       72.0   \n",
              "4          1.2  ...         0.7      18.0      17.0       14.0   \n",
              "\n",
              "   SMK_STAT_TYPE_CD  DRK_YN  HCHK_OE_INSPEC_YN  치아우식증유무   치석  DATA_STD__DT  \n",
              "0                No      No                  0      NaN  NaN    12/29/2021  \n",
              "1                No      No                  0      NaN  NaN    12/29/2021  \n",
              "2                No      No                  0      NaN  NaN    12/29/2021  \n",
              "3                No      No                  1      0.0  0.0    12/29/2021  \n",
              "4                No      No                  0      NaN  NaN    12/29/2021  \n",
              "\n",
              "[5 rows x 31 columns]"
            ],
            "text/html": [
              "\n",
              "  <div id=\"df-a8ea0302-e16d-414c-8fb6-d684496cba0a\">\n",
              "    <div class=\"colab-df-container\">\n",
              "      <div>\n",
              "<style scoped>\n",
              "    .dataframe tbody tr th:only-of-type {\n",
              "        vertical-align: middle;\n",
              "    }\n",
              "\n",
              "    .dataframe tbody tr th {\n",
              "        vertical-align: top;\n",
              "    }\n",
              "\n",
              "    .dataframe thead th {\n",
              "        text-align: right;\n",
              "    }\n",
              "</style>\n",
              "<table border=\"1\" class=\"dataframe\">\n",
              "  <thead>\n",
              "    <tr style=\"text-align: right;\">\n",
              "      <th></th>\n",
              "      <th>HCHK_YEAR</th>\n",
              "      <th>IDV_ID</th>\n",
              "      <th>SIDO</th>\n",
              "      <th>SEX</th>\n",
              "      <th>AGE_GROUP</th>\n",
              "      <th>HEIGHT</th>\n",
              "      <th>WEIGHT</th>\n",
              "      <th>WAIST</th>\n",
              "      <th>SIGHT_LEFT</th>\n",
              "      <th>SIGHT_RIGHT</th>\n",
              "      <th>...</th>\n",
              "      <th>CREATININE</th>\n",
              "      <th>SGOT_AST</th>\n",
              "      <th>SGPT_ALT</th>\n",
              "      <th>GAMMA_GTP</th>\n",
              "      <th>SMK_STAT_TYPE_CD</th>\n",
              "      <th>DRK_YN</th>\n",
              "      <th>HCHK_OE_INSPEC_YN</th>\n",
              "      <th>치아우식증유무</th>\n",
              "      <th>치석</th>\n",
              "      <th>DATA_STD__DT</th>\n",
              "    </tr>\n",
              "  </thead>\n",
              "  <tbody>\n",
              "    <tr>\n",
              "      <th>0</th>\n",
              "      <td>2020</td>\n",
              "      <td>1</td>\n",
              "      <td>36</td>\n",
              "      <td>M</td>\n",
              "      <td>9</td>\n",
              "      <td>165</td>\n",
              "      <td>60</td>\n",
              "      <td>72.1</td>\n",
              "      <td>1.2</td>\n",
              "      <td>1.5</td>\n",
              "      <td>...</td>\n",
              "      <td>1.1</td>\n",
              "      <td>21.0</td>\n",
              "      <td>27.0</td>\n",
              "      <td>21.0</td>\n",
              "      <td>No</td>\n",
              "      <td>No</td>\n",
              "      <td>0</td>\n",
              "      <td>NaN</td>\n",
              "      <td>NaN</td>\n",
              "      <td>12/29/2021</td>\n",
              "    </tr>\n",
              "    <tr>\n",
              "      <th>1</th>\n",
              "      <td>2020</td>\n",
              "      <td>2</td>\n",
              "      <td>27</td>\n",
              "      <td>F</td>\n",
              "      <td>13</td>\n",
              "      <td>150</td>\n",
              "      <td>65</td>\n",
              "      <td>81.0</td>\n",
              "      <td>0.8</td>\n",
              "      <td>0.8</td>\n",
              "      <td>...</td>\n",
              "      <td>0.5</td>\n",
              "      <td>18.0</td>\n",
              "      <td>15.0</td>\n",
              "      <td>15.0</td>\n",
              "      <td>No</td>\n",
              "      <td>No</td>\n",
              "      <td>0</td>\n",
              "      <td>NaN</td>\n",
              "      <td>NaN</td>\n",
              "      <td>12/29/2021</td>\n",
              "    </tr>\n",
              "    <tr>\n",
              "      <th>2</th>\n",
              "      <td>2020</td>\n",
              "      <td>3</td>\n",
              "      <td>11</td>\n",
              "      <td>F</td>\n",
              "      <td>12</td>\n",
              "      <td>155</td>\n",
              "      <td>55</td>\n",
              "      <td>70.0</td>\n",
              "      <td>0.6</td>\n",
              "      <td>0.7</td>\n",
              "      <td>...</td>\n",
              "      <td>0.7</td>\n",
              "      <td>27.0</td>\n",
              "      <td>25.0</td>\n",
              "      <td>7.0</td>\n",
              "      <td>No</td>\n",
              "      <td>No</td>\n",
              "      <td>0</td>\n",
              "      <td>NaN</td>\n",
              "      <td>NaN</td>\n",
              "      <td>12/29/2021</td>\n",
              "    </tr>\n",
              "    <tr>\n",
              "      <th>3</th>\n",
              "      <td>2020</td>\n",
              "      <td>4</td>\n",
              "      <td>31</td>\n",
              "      <td>M</td>\n",
              "      <td>13</td>\n",
              "      <td>160</td>\n",
              "      <td>70</td>\n",
              "      <td>90.8</td>\n",
              "      <td>1.0</td>\n",
              "      <td>1.0</td>\n",
              "      <td>...</td>\n",
              "      <td>1.2</td>\n",
              "      <td>65.0</td>\n",
              "      <td>97.0</td>\n",
              "      <td>72.0</td>\n",
              "      <td>No</td>\n",
              "      <td>No</td>\n",
              "      <td>1</td>\n",
              "      <td>0.0</td>\n",
              "      <td>0.0</td>\n",
              "      <td>12/29/2021</td>\n",
              "    </tr>\n",
              "    <tr>\n",
              "      <th>4</th>\n",
              "      <td>2020</td>\n",
              "      <td>5</td>\n",
              "      <td>41</td>\n",
              "      <td>F</td>\n",
              "      <td>12</td>\n",
              "      <td>155</td>\n",
              "      <td>50</td>\n",
              "      <td>75.2</td>\n",
              "      <td>1.5</td>\n",
              "      <td>1.2</td>\n",
              "      <td>...</td>\n",
              "      <td>0.7</td>\n",
              "      <td>18.0</td>\n",
              "      <td>17.0</td>\n",
              "      <td>14.0</td>\n",
              "      <td>No</td>\n",
              "      <td>No</td>\n",
              "      <td>0</td>\n",
              "      <td>NaN</td>\n",
              "      <td>NaN</td>\n",
              "      <td>12/29/2021</td>\n",
              "    </tr>\n",
              "  </tbody>\n",
              "</table>\n",
              "<p>5 rows × 31 columns</p>\n",
              "</div>\n",
              "      <button class=\"colab-df-convert\" onclick=\"convertToInteractive('df-a8ea0302-e16d-414c-8fb6-d684496cba0a')\"\n",
              "              title=\"Convert this dataframe to an interactive table.\"\n",
              "              style=\"display:none;\">\n",
              "        \n",
              "  <svg xmlns=\"http://www.w3.org/2000/svg\" height=\"24px\"viewBox=\"0 0 24 24\"\n",
              "       width=\"24px\">\n",
              "    <path d=\"M0 0h24v24H0V0z\" fill=\"none\"/>\n",
              "    <path d=\"M18.56 5.44l.94 2.06.94-2.06 2.06-.94-2.06-.94-.94-2.06-.94 2.06-2.06.94zm-11 1L8.5 8.5l.94-2.06 2.06-.94-2.06-.94L8.5 2.5l-.94 2.06-2.06.94zm10 10l.94 2.06.94-2.06 2.06-.94-2.06-.94-.94-2.06-.94 2.06-2.06.94z\"/><path d=\"M17.41 7.96l-1.37-1.37c-.4-.4-.92-.59-1.43-.59-.52 0-1.04.2-1.43.59L10.3 9.45l-7.72 7.72c-.78.78-.78 2.05 0 2.83L4 21.41c.39.39.9.59 1.41.59.51 0 1.02-.2 1.41-.59l7.78-7.78 2.81-2.81c.8-.78.8-2.07 0-2.86zM5.41 20L4 18.59l7.72-7.72 1.47 1.35L5.41 20z\"/>\n",
              "  </svg>\n",
              "      </button>\n",
              "      \n",
              "  <style>\n",
              "    .colab-df-container {\n",
              "      display:flex;\n",
              "      flex-wrap:wrap;\n",
              "      gap: 12px;\n",
              "    }\n",
              "\n",
              "    .colab-df-convert {\n",
              "      background-color: #E8F0FE;\n",
              "      border: none;\n",
              "      border-radius: 50%;\n",
              "      cursor: pointer;\n",
              "      display: none;\n",
              "      fill: #1967D2;\n",
              "      height: 32px;\n",
              "      padding: 0 0 0 0;\n",
              "      width: 32px;\n",
              "    }\n",
              "\n",
              "    .colab-df-convert:hover {\n",
              "      background-color: #E2EBFA;\n",
              "      box-shadow: 0px 1px 2px rgba(60, 64, 67, 0.3), 0px 1px 3px 1px rgba(60, 64, 67, 0.15);\n",
              "      fill: #174EA6;\n",
              "    }\n",
              "\n",
              "    [theme=dark] .colab-df-convert {\n",
              "      background-color: #3B4455;\n",
              "      fill: #D2E3FC;\n",
              "    }\n",
              "\n",
              "    [theme=dark] .colab-df-convert:hover {\n",
              "      background-color: #434B5C;\n",
              "      box-shadow: 0px 1px 3px 1px rgba(0, 0, 0, 0.15);\n",
              "      filter: drop-shadow(0px 1px 2px rgba(0, 0, 0, 0.3));\n",
              "      fill: #FFFFFF;\n",
              "    }\n",
              "  </style>\n",
              "\n",
              "      <script>\n",
              "        const buttonEl =\n",
              "          document.querySelector('#df-a8ea0302-e16d-414c-8fb6-d684496cba0a button.colab-df-convert');\n",
              "        buttonEl.style.display =\n",
              "          google.colab.kernel.accessAllowed ? 'block' : 'none';\n",
              "\n",
              "        async function convertToInteractive(key) {\n",
              "          const element = document.querySelector('#df-a8ea0302-e16d-414c-8fb6-d684496cba0a');\n",
              "          const dataTable =\n",
              "            await google.colab.kernel.invokeFunction('convertToInteractive',\n",
              "                                                     [key], {});\n",
              "          if (!dataTable) return;\n",
              "\n",
              "          const docLinkHtml = 'Like what you see? Visit the ' +\n",
              "            '<a target=\"_blank\" href=https://colab.research.google.com/notebooks/data_table.ipynb>data table notebook</a>'\n",
              "            + ' to learn more about interactive tables.';\n",
              "          element.innerHTML = '';\n",
              "          dataTable['output_type'] = 'display_data';\n",
              "          await google.colab.output.renderOutput(dataTable, element);\n",
              "          const docLink = document.createElement('div');\n",
              "          docLink.innerHTML = docLinkHtml;\n",
              "          element.appendChild(docLink);\n",
              "        }\n",
              "      </script>\n",
              "    </div>\n",
              "  </div>\n",
              "  "
            ]
          },
          "metadata": {}
        }
      ]
    },
    {
      "cell_type": "code",
      "source": [
        "health2 = health.copy()\n",
        "\n",
        "health2['SMK_STAT_TYPE_CD'].fillna('No', inplace=True)\n",
        "health2['DRK_YN'].fillna('No', inplace=True)\n",
        "health2['BP_HIGH']= health2['BP_HIGH'].fillna(health2['BP_HIGH'].mean())\n",
        "health2['BP_LWST']= health2['BP_LWST'].fillna(health2['BP_LWST'].mean())\n",
        "health2['BLDS']= health2['BLDS'].fillna(health2['BLDS'].mean())\n",
        "health2['HMG']= health2['HMG'].fillna(health2['HMG'].mean())\n",
        "health2['OLIG_PROTE_CD']= health2['OLIG_PROTE_CD'].fillna(health2['OLIG_PROTE_CD'].mean())\n",
        "health2['CREATININE']= health2['CREATININE'].fillna(health2['CREATININE'].mean())\n",
        "health2['SGOT_AST']= health2['SGOT_AST'].fillna(health2['SGOT_AST'].mean())\n",
        "health2['SGPT_ALT']= health2['SGPT_ALT'].fillna(health2['SGPT_ALT'].mean())\n",
        "health2['GAMMA_GTP']= health2['GAMMA_GTP'].fillna(health2['GAMMA_GTP'].mean())\n",
        "\n",
        "print(health2.isna().sum())"
      ],
      "metadata": {
        "id": "bNBiM-imn1LF",
        "colab": {
          "base_uri": "https://localhost:8080/"
        },
        "outputId": "21db9678-ca59-4bec-ba34-99aac2db5391"
      },
      "execution_count": 4,
      "outputs": [
        {
          "output_type": "stream",
          "name": "stdout",
          "text": [
            "HCHK_YEAR               0\n",
            "IDV_ID                  0\n",
            "SIDO                    0\n",
            "SEX                     0\n",
            "AGE_GROUP               0\n",
            "HEIGHT                  0\n",
            "WEIGHT                  0\n",
            "WAIST                   0\n",
            "SIGHT_LEFT              0\n",
            "SIGHT_RIGHT             0\n",
            "HEAR_LEFT               0\n",
            "HEAR_RIGHT              0\n",
            "BP_HIGH                 0\n",
            "BP_LWST                 0\n",
            "BLDS                    0\n",
            "총콜레스테롤               5956\n",
            "트리글리세라이드             5956\n",
            "HDL콜레스테롤             5956\n",
            "LDL콜레스테롤             6023\n",
            "HMG                     0\n",
            "OLIG_PROTE_CD           0\n",
            "CREATININE              0\n",
            "SGOT_AST                0\n",
            "SGPT_ALT                0\n",
            "GAMMA_GTP               0\n",
            "SMK_STAT_TYPE_CD        0\n",
            "DRK_YN                  0\n",
            "HCHK_OE_INSPEC_YN       0\n",
            "치아우식증유무              6749\n",
            "치석                   6749\n",
            "DATA_STD__DT            0\n",
            "dtype: int64\n"
          ]
        }
      ]
    },
    {
      "cell_type": "code",
      "source": [
        "sns.set(rc={'figure.figsize':(10, 8)}) \n",
        "\n",
        "sns.boxplot(data = health2, x = 'DRK_YN', y = 'SGPT_ALT').set(ylim = (0, 500))\n",
        "plt.show()"
      ],
      "metadata": {
        "colab": {
          "base_uri": "https://localhost:8080/",
          "height": 506
        },
        "id": "4VnezFeGj5Dt",
        "outputId": "f6aa401a-8d2f-4815-a606-6c189cce2ae7"
      },
      "execution_count": 5,
      "outputs": [
        {
          "output_type": "display_data",
          "data": {
            "text/plain": [
              "<Figure size 720x576 with 1 Axes>"
            ],
            "image/png": "[encoded data removed]"
          },
          "metadata": {}
        }
      ]
    },
    {
      "cell_type": "markdown",
      "source": [
        "1. ALT는 주로 간세포 안에 존재하는 효소로, 간 기능을 나타내는 혈액검사상의 수치를 의미한다.\n",
        "2. 따라서 간세포가 손상을 받는 경우 농도가 증가하기에 음주여부와 연결지어 분석해 볼 수 있다.\n",
        "3. 분석 결과 미세한 차이지만 음주를 하는 사람들이 더 높은 ALT 수치를 보이는 것을 상자 그림을 통해 확인 가능하다.\n",
        "4. ALT 수치를 낮춰 간 기능을 회복시키고자 한다면 금주를 해야할 필요가 있다."
      ],
      "metadata": {
        "id": "4TzssGZz3Sfg"
      }
    },
    {
      "cell_type": "code",
      "source": [
        "sns.lineplot(data = health2, x = 'WEIGHT', y = 'BLDS', ci=None)\n",
        "plt.show()"
      ],
      "metadata": {
        "colab": {
          "base_uri": "https://localhost:8080/",
          "height": 502
        },
        "id": "iy0xRpaf6eRa",
        "outputId": "fce3ab0e-7463-4ca5-b4b7-9cb50b6f38be"
      },
      "execution_count": 6,
      "outputs": [
        {
          "output_type": "display_data",
          "data": {
            "text/plain": [
              "<Figure size 720x576 with 1 Axes>"
            ],
            "image/png": "[encoded data removed]"
          },
          "metadata": {}
        }
      ]
    },
    {
      "cell_type": "markdown",
      "source": [
        "1. 공복 혈당은 8시간 이상 금식 후 측정한 혈당농도로, 당뇨병 등 성인병 진단에 주로 사용된다.\n",
        "2. 위 그래프에서 몸무게 40KG 이하, 100KG 이상은 거의 없는 값이므로 무시해도 무방하다.\n",
        "3. 따라서 우상향 그래프인 것을 알 수 있으며, 몸무게가 많이 나갈수록 공복혈당 또한 높다는 것을 알 수 있다.\n",
        "4. 공복혈당 높은 가장 큰 원인 두 가지는 바로 내장지방과 지방간이다.\n",
        "5. 지방간과 내장지방 모두 지방이 많으면 생길 가능성이 높아지는 것으로, 체중 조절을 꾸준히 해주는 것이 공복혈당을 낮추는데 도움을 준다."
      ],
      "metadata": {
        "id": "evHOdBZs7qWZ"
      }
    },
    {
      "cell_type": "code",
      "source": [
        "df_health = health2.groupby('SEX' , as_index = False).agg( meanhwg = ('HMG', 'mean'))\n",
        "df_health"
      ],
      "metadata": {
        "colab": {
          "base_uri": "https://localhost:8080/",
          "height": 112
        },
        "id": "618VFLUI4koL",
        "outputId": "8773be6a-821f-4186-b992-9495873f1354"
      },
      "execution_count": 7,
      "outputs": [
        {
          "output_type": "execute_result",
          "data": {
            "text/plain": [
              "  SEX    meanhwg\n",
              "0   F  13.241787\n",
              "1   M  15.134485"
            ],
            "text/html": [
              "\n",
              "  <div id=\"df-9fc47c3a-9570-4280-98c7-e2fcb57e91aa\">\n",
              "    <div class=\"colab-df-container\">\n",
              "      <div>\n",
              "<style scoped>\n",
              "    .dataframe tbody tr th:only-of-type {\n",
              "        vertical-align: middle;\n",
              "    }\n",
              "\n",
              "    .dataframe tbody tr th {\n",
              "        vertical-align: top;\n",
              "    }\n",
              "\n",
              "    .dataframe thead th {\n",
              "        text-align: right;\n",
              "    }\n",
              "</style>\n",
              "<table border=\"1\" class=\"dataframe\">\n",
              "  <thead>\n",
              "    <tr style=\"text-align: right;\">\n",
              "      <th></th>\n",
              "      <th>SEX</th>\n",
              "      <th>meanhwg</th>\n",
              "    </tr>\n",
              "  </thead>\n",
              "  <tbody>\n",
              "    <tr>\n",
              "      <th>0</th>\n",
              "      <td>F</td>\n",
              "      <td>13.241787</td>\n",
              "    </tr>\n",
              "    <tr>\n",
              "      <th>1</th>\n",
              "      <td>M</td>\n",
              "      <td>15.134485</td>\n",
              "    </tr>\n",
              "  </tbody>\n",
              "</table>\n",
              "</div>\n",
              "      <button class=\"colab-df-convert\" onclick=\"convertToInteractive('df-9fc47c3a-9570-4280-98c7-e2fcb57e91aa')\"\n",
              "              title=\"Convert this dataframe to an interactive table.\"\n",
              "              style=\"display:none;\">\n",
              "        \n",
              "  <svg xmlns=\"http://www.w3.org/2000/svg\" height=\"24px\"viewBox=\"0 0 24 24\"\n",
              "       width=\"24px\">\n",
              "    <path d=\"M0 0h24v24H0V0z\" fill=\"none\"/>\n",
              "    <path d=\"M18.56 5.44l.94 2.06.94-2.06 2.06-.94-2.06-.94-.94-2.06-.94 2.06-2.06.94zm-11 1L8.5 8.5l.94-2.06 2.06-.94-2.06-.94L8.5 2.5l-.94 2.06-2.06.94zm10 10l.94 2.06.94-2.06 2.06-.94-2.06-.94-.94-2.06-.94 2.06-2.06.94z\"/><path d=\"M17.41 7.96l-1.37-1.37c-.4-.4-.92-.59-1.43-.59-.52 0-1.04.2-1.43.59L10.3 9.45l-7.72 7.72c-.78.78-.78 2.05 0 2.83L4 21.41c.39.39.9.59 1.41.59.51 0 1.02-.2 1.41-.59l7.78-7.78 2.81-2.81c.8-.78.8-2.07 0-2.86zM5.41 20L4 18.59l7.72-7.72 1.47 1.35L5.41 20z\"/>\n",
              "  </svg>\n",
              "      </button>\n",
              "      \n",
              "  <style>\n",
              "    .colab-df-container {\n",
              "      display:flex;\n",
              "      flex-wrap:wrap;\n",
              "      gap: 12px;\n",
              "    }\n",
              "\n",
              "    .colab-df-convert {\n",
              "      background-color: #E8F0FE;\n",
              "      border: none;\n",
              "      border-radius: 50%;\n",
              "      cursor: pointer;\n",
              "      display: none;\n",
              "      fill: #1967D2;\n",
              "      height: 32px;\n",
              "      padding: 0 0 0 0;\n",
              "      width: 32px;\n",
              "    }\n",
              "\n",
              "    .colab-df-convert:hover {\n",
              "      background-color: #E2EBFA;\n",
              "      box-shadow: 0px 1px 2px rgba(60, 64, 67, 0.3), 0px 1px 3px 1px rgba(60, 64, 67, 0.15);\n",
              "      fill: #174EA6;\n",
              "    }\n",
              "\n",
              "    [theme=dark] .colab-df-convert {\n",
              "      background-color: #3B4455;\n",
              "      fill: #D2E3FC;\n",
              "    }\n",
              "\n",
              "    [theme=dark] .colab-df-convert:hover {\n",
              "      background-color: #434B5C;\n",
              "      box-shadow: 0px 1px 3px 1px rgba(0, 0, 0, 0.15);\n",
              "      filter: drop-shadow(0px 1px 2px rgba(0, 0, 0, 0.3));\n",
              "      fill: #FFFFFF;\n",
              "    }\n",
              "  </style>\n",
              "\n",
              "      <script>\n",
              "        const buttonEl =\n",
              "          document.querySelector('#df-9fc47c3a-9570-4280-98c7-e2fcb57e91aa button.colab-df-convert');\n",
              "        buttonEl.style.display =\n",
              "          google.colab.kernel.accessAllowed ? 'block' : 'none';\n",
              "\n",
              "        async function convertToInteractive(key) {\n",
              "          const element = document.querySelector('#df-9fc47c3a-9570-4280-98c7-e2fcb57e91aa');\n",
              "          const dataTable =\n",
              "            await google.colab.kernel.invokeFunction('convertToInteractive',\n",
              "                                                     [key], {});\n",
              "          if (!dataTable) return;\n",
              "\n",
              "          const docLinkHtml = 'Like what you see? Visit the ' +\n",
              "            '<a target=\"_blank\" href=https://colab.research.google.com/notebooks/data_table.ipynb>data table notebook</a>'\n",
              "            + ' to learn more about interactive tables.';\n",
              "          element.innerHTML = '';\n",
              "          dataTable['output_type'] = 'display_data';\n",
              "          await google.colab.output.renderOutput(dataTable, element);\n",
              "          const docLink = document.createElement('div');\n",
              "          docLink.innerHTML = docLinkHtml;\n",
              "          element.appendChild(docLink);\n",
              "        }\n",
              "      </script>\n",
              "    </div>\n",
              "  </div>\n",
              "  "
            ]
          },
          "metadata": {},
          "execution_count": 7
        }
      ]
    },
    {
      "cell_type": "code",
      "source": [
        "sns.barplot(data = df_health, x = 'SEX', y = 'meanhwg')\n",
        "plt.show()"
      ],
      "metadata": {
        "colab": {
          "base_uri": "https://localhost:8080/",
          "height": 502
        },
        "id": "cjfVrEpjGIFJ",
        "outputId": "ab535e32-c5dc-411a-b8d1-7be74d47da28"
      },
      "execution_count": 8,
      "outputs": [
        {
          "output_type": "display_data",
          "data": {
            "text/plain": [
              "<Figure size 720x576 with 1 Axes>"
            ],
            "image/png": "[encoded data removed]"
          },
          "metadata": {}
        }
      ]
    },
    {
      "cell_type": "markdown",
      "source": [
        "1. 일반적으로 남성은 여성보다 신진대사의 저하뿐만 아니라 내장지방을 가진 경우가 많다.\n",
        "2. 그래프에서도 볼 수 있듯, 미미한 차이지만 남성의 혈색소 수치의 평균이 더 높다.\n",
        "3. 혈색소가 높을 수록 당뇨에 걸릴 확률이 높아진다.\n",
        "4. 따라서 남성은 여성보다 당뇨에 걸릴 확률이 더 높다는 것을 알 수 있다."
      ],
      "metadata": {
        "id": "kRUL6WNtGsew"
      }
    }
  ]
}